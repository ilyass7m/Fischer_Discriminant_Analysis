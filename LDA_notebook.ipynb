{
 "cells": [
  {
   "cell_type": "markdown",
   "metadata": {
    "id": "sjKQTPuONClS"
   },
   "source": [
    "# Lab: TP 2"
   ]
  },
  {
   "cell_type": "code",
   "execution_count": null,
   "metadata": {
    "id": "RWHgIX2lNClb",
    "outputId": "995ea3b4-cb2e-4f4f-a003-3f173eac5036"
   },
   "outputs": [
    {
     "data": {
      "text/html": [
       "\n",
       "<style>\n",
       ".container {\n",
       "    width: 60% !important;\n",
       "}\n",
       ".output_png {\n",
       "    display: table-cell;\n",
       "    text-align: center;\n",
       "    vertical-align: middle;\n",
       "}\n",
       "</style>\n"
      ],
      "text/plain": [
       "<IPython.core.display.HTML object>"
      ]
     },
     "execution_count": 1,
     "metadata": {},
     "output_type": "execute_result"
    }
   ],
   "source": [
    "import numpy as np\n",
    "import scipy.linalg as linalg\n",
    "from scipy.spatial.distance import cdist\n",
    "import matplotlib.pyplot as plt\n",
    "\n",
    "# Notebook settings\n",
    "from IPython.core.display import HTML\n",
    "\n",
    "HTML(\"\"\"\n",
    "<style>\n",
    ".container {\n",
    "    width: 60% !important;\n",
    "}\n",
    ".output_png {\n",
    "    display: table-cell;\n",
    "    text-align: center;\n",
    "    vertical-align: middle;\n",
    "}\n",
    "</style>\n",
    "\"\"\")\n"
   ]
  },
  {
   "cell_type": "markdown",
   "metadata": {
    "id": "Mw2voPKYNClh"
   },
   "source": [
    "# 1. The data"
   ]
  },
  {
   "cell_type": "code",
   "execution_count": null,
   "metadata": {
    "id": "af3aHTSDNClj"
   },
   "outputs": [],
   "source": [
    "def load_data(seed=1, n_train=100):\n",
    "    data = np.genfromtxt('wine_data.csv', delimiter=',')\n",
    "    X, y = data[:,1:], data[:,0]\n",
    "    return X,y\n",
    "    \n",
    "def train_test_split(X, y, test_size, shuffle=True, random_state=123):\n",
    "    assert X.shape[0] == y.shape[0]\n",
    "    m = X.shape[0]\n",
    "    \n",
    "    if shuffle:\n",
    "        np.random.seed(random_state)\n",
    "        perm = np.random.permutation(m)\n",
    "        \n",
    "    m_test = int(np.ceil(m*test_size))\n",
    "    X_test = X[perm[-m_test:],:]\n",
    "    X_train = X[perm[:-m_test],:]\n",
    "    y_test = y[perm[-m_test:]]\n",
    "    y_train = y[perm[:-m_test]]\n",
    "    \n",
    "    return X_train, X_test, y_train, y_test \n",
    "    \n",
    "X, y = load_data()\n",
    "X_train, X_test, y_train, y_test = train_test_split(X,y,test_size=0.2)"
   ]
  },
  {
   "cell_type": "code",
   "execution_count": null,
   "metadata": {
    "id": "4ZxwbHE6NClk"
   },
   "outputs": [],
   "source": [
    "def plot_decision_regions(ax, X, y, classifier, resolution=0.02):\n",
    "    markers = ('s', 'x', 'o', '^', 'v')\n",
    "    colors = ('red', 'blue', 'lightgreen', 'gray', 'cyan')\n",
    "    cmap = ListedColormap(colors[:len(np.unique(y))])\n",
    "    \n",
    "    x1_min,x1_max = X[:,0].min()-0.5,X[:,0].max()+0.5\n",
    "    x2_min,x2_max = X[:,1].min()-0.5,X[:,1].max()+0.5\n",
    "\n",
    "    xx1,xx2 = np.meshgrid(np.arange(x1_min,x1_max,resolution),\n",
    "                          np.arange(x2_min,x2_max,resolution))\n",
    "    Z = classifier.predict(np.array([xx1.ravel(),xx2.ravel()]).T)\n",
    "    Z = Z.reshape(xx1.shape)\n",
    "    \n",
    "    plt.contourf(xx1,xx2,Z,alpha=0.4,cmap=cmap)\n",
    "    ax.set_xlim(xx1.min(), xx1.max())\n",
    "    ax.set_ylim(xx2.min(), xx2.max())\n",
    "    # plot class samples\n",
    "    for idx, cl in enumerate(np.unique(y)):\n",
    "        ax.scatter(x=X[y == cl, 0],\n",
    "                   y=X[y == cl, 1],\n",
    "                   alpha=0.6,\n",
    "                   c=cmap(idx),\n",
    "                   edgecolor='black',\n",
    "                   marker=markers[idx])\n",
    "\n",
    "def plot_2_axes(ax, X, y, centroids=None):\n",
    "    colors = ['r','g','b','gray', 'cyan']\n",
    "    markers = ['v','s','o', '^', 'X']\n",
    "    \n",
    "    for cl, c, m in zip(np.unique(y), colors, markers):\n",
    "        ax.scatter(X[y==cl,0],\n",
    "                    X[y==cl,1],\n",
    "                    color=c,marker=m,label=cl, alpha=0.6)\n",
    "        \n",
    "    if centroids is not None:\n",
    "        for cl, c, m in zip(np.unique(y), colors, markers):\n",
    "            ax.scatter(centroids[cl][0], centroids[cl][1], edgecolor=\"black\", \n",
    "                        linewidth=3, color=c, marker=m, s=200)"
   ]
  },
  {
   "cell_type": "markdown",
   "metadata": {
    "id": "AByRoIcuNClm"
   },
   "source": [
    "## 2. What is Fisher discrimant analysis"
   ]
  },
  {
   "cell_type": "markdown",
   "metadata": {
    "id": "rWG1G1vdNClo"
   },
   "source": [
    "Let us denote $x_{1:n}, y_{1:n} \\sim X, Y$ i.i.d observations of $X \\in \\mathbb{R}^p, Y \\in \\{1,\\ldots, k\\}$."
   ]
  },
  {
   "cell_type": "markdown",
   "metadata": {
    "id": "GBsxs_ebNClr"
   },
   "source": [
    "LDA is closely related to PCA in the sense that both method try to find linear combinations of the covariates $X_1, \\ldots, X_p$ that \"best\" explain the data. \n"
   ]
  },
  {
   "cell_type": "markdown",
   "metadata": {
    "id": "4wZayvZyNCls"
   },
   "source": [
    "### PCA objective"
   ]
  },
  {
   "cell_type": "markdown",
   "metadata": {
    "id": "KTN27DG6NClu"
   },
   "source": [
    "\n",
    "For PCA, \"best\" means finding the sets of linear combinations of the $X_1,\\ldots,X_p$ that results in the linear subspace that **maximizes the variance** of the projected data among all subspaces of a given dimension i.e\n",
    "\n",
    "\\begin{equation}\n",
    "   H_k^* = \\underset{H_k \\subset \\mathbb{R}^p, \\mathrm{dim} (H_k)=k}{arg max}\\frac{1}{n} \\sum_{i=1}^n \\|p_{H_k}(x_i)\\|^2\n",
    "\\end{equation}\n",
    "\n",
    "In short, assuming the matrix $X$ is centered (without loss of generality), the subspace $H_k^*$ is obtained by computing the **eigen decomposition of the covariance matrix $\\frac{1}{n}X^\\top X$**. \n",
    "\n",
    "More specifically, the optiomal subspace is $H_k^* = \\mathrm{span}\\{v_1, \\ldots, v_k\\}$ with $v_1, \\ldots, v_k$ k eigenvectors from the eigenspaces with the $k$ highest eigenvalues $\\lambda_1 \\geq \\ldots \\geq \\lambda_k$.\n",
    "\n",
    "Choosing the $v_1, \\ldots, v_k$ to be orthonormal, the projection matrix is given by\n",
    "\\begin{equation}\n",
    "    W_k = \\begin{bmatrix} v_1 & v_2 & \\cdots & v_k \\end{bmatrix}\n",
    "\\end{equation}"
   ]
  },
  {
   "cell_type": "markdown",
   "metadata": {
    "id": "M6n1qxyQNClx"
   },
   "source": [
    "###  Fisher LDA objective"
   ]
  },
  {
   "cell_type": "markdown",
   "metadata": {
    "id": "pdaRhHONNClz"
   },
   "source": [
    "\n",
    "For Fisher LDA, \"best\" means finding the sets of linear combinations of the $X_1, \\ldots, X_p$ that **maximizes the \"separability\"** of the classes."
   ]
  },
  {
   "cell_type": "markdown",
   "metadata": {
    "id": "i7U0SGRaNCl0"
   },
   "source": [
    "#### Fisher LDA for 2 classes"
   ]
  },
  {
   "cell_type": "markdown",
   "metadata": {
    "id": "aw0XBh3JNCl1"
   },
   "source": [
    "For 2 classes, we seek a linear combination $w_1, \\ldots, w_p$ of the $X_1, \\ldots, X_p$ that linearly separates the classes $1$ and $2$. \n",
    "\n",
    "Classification is\n",
    "\\begin{equation}\n",
    "\\begin{cases}\n",
    "    1 & \\text{if $w^\\top X \\geq t$} \\\\\n",
    "    2 & \\text{if $w^\\top X < t$}\n",
    "\\end{cases}\n",
    "\\end{equation}\n",
    "\n",
    "Let us denote\n",
    "1. $n_1, n_2$ number of observations in classes 1 and 2. $n_1+n_2=n$\n",
    "2. $\\displaystyle m_1 = \\frac{1}{n_1}\\sum_{i | y_i = 1} x_i, \\qquad  m_2 = \\frac{1}{n_2}\\sum_{i | y_i = 2} x_i$\n",
    "\n",
    "The separation is \"good\" if \n",
    "1. $w^\\top m_1 - w^\\top m_2$ is large (**between-class**) \n",
    "2. $s_1^2 = \\displaystyle \\sum_{i | y_i = 1} (w^\\top x_i - w^\\top m_1)^2$ and $s_2^2 = \\displaystyle \\sum_{i | y_i = 2} (w^\\top x_i - w^\\top m_2)^2$ are small (**within-class**).\n",
    "\n",
    "The Fisher objective function is\n",
    "\\begin{equation}\n",
    "    w^* = \\underset{w}{arg max} \\; J(w) \\quad \\text{with} \\quad J(w) = \\frac{(w^\\top m_1-w^\\top m_2)^2}{s_1^2 + s_2^2}\n",
    "\\end{equation}\n",
    "\n",
    "which can be rewritten\n",
    "\\begin{equation}\n",
    "    J(w) = \\frac{w^\\top S_B w}{w^\\top S_W w}\n",
    "\\end{equation}\n",
    "with\n",
    "\\begin{equation}\n",
    "    \\begin{cases}\n",
    "        S_B  = (m_1-m_2)(m_1-m_2)^\\top & \\text{between-class covariance} \\\\\n",
    "        \\displaystyle S_W  = \\sum_{i | y_i = 1} (x_i - m_1)(x_i - m_1)^\\top + \\sum_{i | y_i = 2} (x_i - m_2)(x_i - m_2)^\\top & \\text{within-class covariance}\n",
    "    \\end{cases}\n",
    "\\end{equation}"
   ]
  },
  {
   "cell_type": "markdown",
   "metadata": {
    "id": "on63Kg5DNCl2"
   },
   "source": [
    "##### Fitting"
   ]
  },
  {
   "cell_type": "markdown",
   "metadata": {
    "id": "XT-uK5sENCl3"
   },
   "source": [
    "Solving $w$ for $\\nabla J(w) = 0$ leads to\n",
    "\\begin{equation}\n",
    "    (w^\\top S_B w) S_W w = (w^\\top S_W w) S_B w\n",
    "\\end{equation}\n",
    "\n",
    "The scale of $w$ being arbitrary, an optimal $w$ satisfies\n",
    "\\begin{equation}\n",
    "    S_B w = \\lambda S_W w\n",
    "\\end{equation}\n",
    "\n",
    "If $S_W$ is invertible, an optimal $w$ satisfies\n",
    "\\begin{equation}\n",
    "    S_W^{-1} S_B w = \\lambda w\n",
    "\\end{equation}    \n",
    "i.e **$w$ is an eigenvector of $S_W^{-1} S_B$.**"
   ]
  },
  {
   "cell_type": "markdown",
   "metadata": {
    "id": "YzFfleg9NCl4"
   },
   "source": [
    "#### Fisher LDA > 2 classes"
   ]
  },
  {
   "cell_type": "markdown",
   "metadata": {
    "id": "FClVAuK-NCl4"
   },
   "source": [
    "The same Fisher objective function is maximized\n",
    "\n",
    "\\begin{equation}\n",
    "    W^* = \\underset{W \\in \\mathbb{R}^{p \\times k} }{arg max} \\; J(W) \\quad \\text{with} \\quad J(W) = \\frac{|W^\\top S_B W|}{|W^\\top S_W W|}\n",
    "\\end{equation}\n",
    "with\n",
    "\\begin{equation}\n",
    "    \\begin{cases}\n",
    "        \\displaystyle S_B  = \\sum_{q=1}^k n_q (m_q-m)(m_q-m)^\\top & \\text{between-class covariance} \\\\\n",
    "        \\displaystyle S_W  = \\sum_{q=1}^k \\sum_{i | y_i = q} (x_i - m_q)(x_i - m_q)^\\top & \\text{within-class covariance}\n",
    "    \\end{cases}\n",
    "\\end{equation}\n",
    "\n",
    "It can be shown that the optimal matrix of linear combinations, $W$, is given by\n",
    "\n",
    "\\begin{equation}\n",
    "    W_k = \\begin{bmatrix} v_1 & v_2 & \\cdots & v_{k-1} \\end{bmatrix}\n",
    "\\end{equation}\n",
    "\n",
    "with $v_1, \\ldots, v_{k-1}$ the $k-1$ orthonormal eigenvectors from the eigenspaces with the $k-1$ highest eigenvalues $|\\lambda_1| \\geq \\ldots \\geq |\\lambda_{k-1}|$ of the $S_W^{-1}S_B$ matrix."
   ]
  },
  {
   "cell_type": "markdown",
   "metadata": {
    "id": "T49S7E-3NCl5"
   },
   "source": [
    "## 3. Implementation"
   ]
  },
  {
   "cell_type": "code",
   "execution_count": null,
   "metadata": {
    "id": "DGS5P1WVNCl6"
   },
   "outputs": [],
   "source": [
    "Z = np.array([1,2,3])"
   ]
  },
  {
   "cell_type": "code",
   "execution_count": null,
   "metadata": {
    "id": "2w578ledNCl7",
    "outputId": "fe6a720b-d614-4631-f959-51105b99facf"
   },
   "outputs": [
    {
     "data": {
      "text/plain": [
       "(3,)"
      ]
     },
     "execution_count": 5,
     "metadata": {},
     "output_type": "execute_result"
    }
   ],
   "source": [
    "Z.shape"
   ]
  },
  {
   "cell_type": "code",
   "execution_count": null,
   "metadata": {
    "id": "WfpDylI_NCl7",
    "outputId": "d28bfd35-9134-43fb-c713-11fb1334887a"
   },
   "outputs": [
    {
     "data": {
      "text/plain": [
       "(3, 1)"
      ]
     },
     "execution_count": 6,
     "metadata": {},
     "output_type": "execute_result"
    }
   ],
   "source": [
    "Z.reshape(-1,1).shape"
   ]
  },
  {
   "cell_type": "code",
   "execution_count": null,
   "metadata": {
    "id": "I3a6t4RKNCl8",
    "outputId": "11a9ee45-8a0d-4e64-9580-fef7efee914e"
   },
   "outputs": [
    {
     "data": {
      "text/plain": [
       "(1, 3)"
      ]
     },
     "execution_count": 7,
     "metadata": {},
     "output_type": "execute_result"
    }
   ],
   "source": [
    "Z.reshape(1,-1).shape"
   ]
  },
  {
   "cell_type": "code",
   "execution_count": null,
   "metadata": {
    "id": "Lliud5s-NCl9"
   },
   "outputs": [],
   "source": [
    "def class_means(X, y):\n",
    "    mus = {} \n",
    "    for cl in np.unique(y):\n",
    "        mus[cl] = np.mean(X[y==cl], axis=0)\n",
    "    return mus\n",
    "\n",
    "def between_class_cov(X, y):\n",
    "    S_B = np.zeros((X.shape[1], X.shape[1]))\n",
    "    mus = class_means(X,y)\n",
    "    mu = np.mean(X, axis=0)\n",
    "    \n",
    "    for cl, mu_cl in mus.items():\n",
    "        n_cl = sum(y==cl)\n",
    "        S_B_cl = (mu_cl - mu).reshape(-1, 1).dot((mu_cl-mu).reshape(1,-1))\n",
    "        S_B += n_cl * S_B_cl\n",
    "\n",
    "    return S_B\n",
    "\n",
    "def within_class_cov(X, y):\n",
    "    S_W = np.zeros((X.shape[1], X.shape[1]))\n",
    "    mus = class_means(X, y)\n",
    "    \n",
    "    for cl, mu_cl in mus.items():\n",
    "        n_cl = sum(y==cl)\n",
    "        S_W_cl = np.cov(X[y==cl].T, bias=True)\n",
    "        S_W += n_cl * S_W_cl\n",
    "\n",
    "    return S_W\n",
    "    \n",
    "def fit_LDA(X, y):\n",
    "    \"\"\"\n",
    "    Train a LDA classifier\n",
    "    X: data\n",
    "    y: labels\n",
    "    \"\"\"  \n",
    "    # Covariance matrices\n",
    "    S_B = between_class_cov(X,y)\n",
    "    S_W = within_class_cov(X,y)\n",
    "    \n",
    "    # Build W from eigen decomposition of V = S_W^{-1} S_B\n",
    "    V = linalg.inv(S_W).dot(S_B)\n",
    "    eig_vals, eig_vecs = linalg.eig(V)\n",
    "    \n",
    "    eig_pairs = [(np.abs(eig_vals[i]), eig_vecs[:,i]) for i in range(len(eig_vals))]\n",
    "    eig_pairs.sort(key=lambda t: t[0], reverse=True)\n",
    "    \n",
    "    k = len(np.unique(y))\n",
    "    W = np.hstack([eig_pairs[l][1].real.reshape(-1,1) for l in range(k-1)])\n",
    "    \n",
    "    # Project on W\n",
    "    X_lda = X.dot(W)\n",
    "    mus = class_means(X,y)\n",
    "    mus_lda = {}\n",
    "    for cl, mu_cl in mus.items():\n",
    "        mus_lda[cl] = W.T.dot(mu_cl)\n",
    "        \n",
    "    return W, mus_lda, X_lda"
   ]
  },
  {
   "cell_type": "markdown",
   "metadata": {
    "id": "7r2XyXYWNCl-"
   },
   "source": [
    "### 3.1 Fit LDA"
   ]
  },
  {
   "cell_type": "code",
   "execution_count": null,
   "metadata": {
    "id": "-jAXv3C7NCl-"
   },
   "outputs": [],
   "source": [
    "W, mus_lda, X_train_lda = fit_LDA(X_train, y_train)"
   ]
  },
  {
   "cell_type": "markdown",
   "metadata": {
    "id": "H8_6g_H0NCl_"
   },
   "source": [
    "### 3.2 Plot fit"
   ]
  },
  {
   "cell_type": "code",
   "execution_count": null,
   "metadata": {
    "id": "KixipEJdNCmA",
    "outputId": "cdacc5f8-af56-4109-ff69-f706370dcf0a"
   },
   "outputs": [
    {
     "data": {
      "image/png": "[encoded data removed]",
      "text/plain": [
       "<Figure size 576x360 with 1 Axes>"
      ]
     },
     "metadata": {
      "needs_background": "light"
     },
     "output_type": "display_data"
    }
   ],
   "source": [
    "fig, ax  = plt.subplots(nrows=1, ncols=1, figsize=(8,5))\n",
    "\n",
    "plot_2_axes(ax, X_train_lda, y_train, mus_lda)\n",
    "ax.set_xlabel(\"LDA 1\", fontsize=14)\n",
    "ax.set_ylabel(\"LDA 2\", fontsize=14)\n",
    "ax.set_title(\"LDA train wine data set\", fontsize=18, fontweight=\"medium\")\n",
    "ax.set_title(\"LDA train wine data set\", fontsize=18, fontweight=\"medium\")\n",
    "\n",
    "plt.show()"
   ]
  },
  {
   "cell_type": "markdown",
   "metadata": {
    "id": "AHyOm4WUNCmB"
   },
   "source": [
    "### 3.3 Predict"
   ]
  },
  {
   "cell_type": "code",
   "execution_count": null,
   "metadata": {
    "id": "mrMHyMb9NCmB"
   },
   "outputs": [],
   "source": [
    "def predict(X, W, mus_lda):\n",
    "    \"\"\"\n",
    "    Apply the trained LDA classifier (W, mus_lda) on the test data\n",
    "    X: test data\n",
    "    W: projection matrix\n",
    "    mus_lda: class means projections\n",
    "    \"\"\"\n",
    "\n",
    "    # Project test data onto the LDA space defined by W\n",
    "    X_lda = X.dot(W)\n",
    "    \n",
    "    # Pairwise distances\n",
    "    classes = list(mus_lda.keys())\n",
    "    Mus_lda = np.vstack([mus_lda[cl].reshape(1,-1) for cl in classes])\n",
    "    D = cdist(X_lda, Mus_lda, metric=\"euclidean\")\n",
    "    \n",
    "    pred = np.argmin(D, axis=1)\n",
    "    pred = np.array([classes[pred_i] for pred_i in pred]) \n",
    "\n",
    "    return pred"
   ]
  },
  {
   "cell_type": "code",
   "execution_count": null,
   "metadata": {
    "id": "jDUYf0skNCmC"
   },
   "outputs": [],
   "source": [
    "def compute_accuracy(y, pred):\n",
    "    return np.mean(y==pred)"
   ]
  },
  {
   "cell_type": "code",
   "execution_count": null,
   "metadata": {
    "id": "O0L3LvSPNCmD",
    "outputId": "517bd9a2-261d-40eb-aa45-5156fd27af64"
   },
   "outputs": [
    {
     "name": "stdout",
     "output_type": "stream",
     "text": [
      "Train Accuracy: 99.30 %\n",
      "Test Accuracy: 97.22 %\n"
     ]
    }
   ],
   "source": [
    "pred_train = predict(X_train, W, mus_lda)\n",
    "pred_test = predict(X_test, W, mus_lda)\n",
    "\n",
    "acc_train = compute_accuracy(y_train, pred_train)\n",
    "acc_test = compute_accuracy(y_test, pred_test)\n",
    "\n",
    "print('Train Accuracy: {:.2f} %'.format(acc_train * 100.0))\n",
    "print('Test Accuracy: {:.2f} %'.format(acc_test * 100.0))"
   ]
  },
  {
   "cell_type": "markdown",
   "metadata": {
    "id": "2WUoQYMENCmE"
   },
   "source": [
    "## 4. Object"
   ]
  },
  {
   "cell_type": "code",
   "execution_count": null,
   "metadata": {
    "id": "d0ak9incNCmE"
   },
   "outputs": [],
   "source": [
    "class LDA(object):\n",
    "    \"\"\"\n",
    "    Class for fitting Fisher discriminant analysis.\n",
    "    \"\"\"\n",
    "    def __init__(self):\n",
    "        self.W = None\n",
    "        self.mus = None\n",
    "        self.mus_lda = None\n",
    "        \n",
    "    def fit(self, X, y):\n",
    "        self.mus = self._class_means(X, y)\n",
    "        \n",
    "         # Covariance matrices\n",
    "        S_B = self._between_class_cov(X,y)\n",
    "        S_W = self._within_class_cov(X,y)\n",
    "\n",
    "        # Build W from eigen decomposition of V = S_W^{-1} S_B\n",
    "        V = linalg.inv(S_W).dot(S_B)\n",
    "        eig_vals,eig_vecs = linalg.eig(V)\n",
    "\n",
    "        eig_pairs = [(np.abs(eig_vals[i]), eig_vecs[:,i]) for i in range(len(eig_vals))]\n",
    "        eig_pairs.sort(key=lambda k:k[0], reverse=True)\n",
    "\n",
    "        k = len(np.unique(y))\n",
    "        self.W = np.hstack([eig_pairs[l][1].reshape(-1,1).real for l in range(k-1)])\n",
    "\n",
    "        # Project on W\n",
    "        self.mus_lda = {}\n",
    "        for cl, mu_cl in self.mus.items():\n",
    "            self.mus_lda[cl] = W.T.dot(mu_cl)\n",
    "\n",
    "        X_lda = X.dot(W)\n",
    "        \n",
    "        return self\n",
    "    \n",
    "    def predict(self, X):\n",
    "        # Project test data onto the LDA space defined by W\n",
    "        X_lda = X.dot(self.W)\n",
    "\n",
    "        classes = list(mus_lda.keys())\n",
    "        Mus_lda = np.vstack([self.mus_lda[cl].reshape(1,-1) for cl in classes])\n",
    "        D = cdist(X_lda, Mus_lda)\n",
    "\n",
    "        pred = np.argmin(D, axis=1)\n",
    "        pred = np.array([classes[pred_i] for pred_i in pred])\n",
    "        return pred\n",
    "        \n",
    "    # internal\n",
    "    def _class_means(self, X, y):\n",
    "        mus = {}\n",
    "        for cl in np.unique(y):\n",
    "            mus[cl] = np.mean(X[y==cl], axis=0)\n",
    "        return mus\n",
    "\n",
    "    def _between_class_cov(self, X, y):\n",
    "        mu = np.mean(X, axis=0)\n",
    "        S_B = np.zeros((X.shape[1], X.shape[1]))\n",
    "\n",
    "        for cl, mu_cl in self.mus.items():\n",
    "            n_cl = sum(y==cl)\n",
    "            S_B_cl = (mu_cl - mu).reshape(-1,1).dot((mu_cl-mu).reshape(1,-1))\n",
    "            S_B += n_cl * S_B_cl\n",
    "\n",
    "        return S_B\n",
    "\n",
    "    def _within_class_cov(self, X, y):\n",
    "        mu = np.mean(X, axis=0)\n",
    "        S_W = np.zeros((X.shape[1], X.shape[1]))\n",
    "\n",
    "        for cl, mu_cl in self.mus.items():\n",
    "            n_cl = sum(y==cl)\n",
    "            S_W_cl = np.cov(X[y==cl].T)\n",
    "            S_W += n_cl * S_W_cl\n",
    "\n",
    "        return S_W"
   ]
  },
  {
   "cell_type": "code",
   "execution_count": null,
   "metadata": {
    "id": "9zs8lm03NCmF",
    "outputId": "dc14a645-3ae5-4c67-f4ca-e3e5694644b0"
   },
   "outputs": [
    {
     "name": "stdout",
     "output_type": "stream",
     "text": [
      "Train Accuracy: 99.30 %\n",
      "Test Accuracy: 97.22 %\n"
     ]
    }
   ],
   "source": [
    "lda = LDA()\n",
    "lda = lda.fit(X_train,y_train)\n",
    "acc_train = compute_accuracy(y_train, lda.predict(X_train))\n",
    "acc_test = compute_accuracy(y_test, lda.predict(X_test))\n",
    "\n",
    "print('Train Accuracy: {:.2f} %'.format(acc_train * 100.0))\n",
    "print('Test Accuracy: {:.2f} %'.format(acc_test * 100.0))"
   ]
  }
 ],
 "metadata": {
  "colab": {
   "name": "TP_2_inclass_solution_more_annotations.ipynb",
   "provenance": []
  },
  "kernelspec": {
   "display_name": "Python 3 (ipykernel)",
   "language": "python",
   "name": "python3"
  },
  "language_info": {
   "codemirror_mode": {
    "name": "ipython",
    "version": 3
   },
   "file_extension": ".py",
   "mimetype": "text/x-python",
   "name": "python",
   "nbconvert_exporter": "python",
   "pygments_lexer": "ipython3",
   "version": "3.8.10"
  }
 },
 "nbformat": 4,
 "nbformat_minor": 1
}
